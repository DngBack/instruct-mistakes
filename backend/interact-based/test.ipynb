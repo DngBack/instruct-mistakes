{
 "cells": [
  {
   "cell_type": "code",
   "execution_count": 1,
   "metadata": {},
   "outputs": [],
   "source": [
    "from domain.interactive.base import InteractionInput\n",
    "from domain.interactive.service import LLMInteractionService\n",
    "from infra.llm_service import OpenAIService"
   ]
  },
  {
   "cell_type": "code",
   "execution_count": 2,
   "metadata": {},
   "outputs": [],
   "source": [
    "from shared.settings import load_settings\n",
    "\n",
    "settings = load_settings()"
   ]
  },
  {
   "cell_type": "code",
   "execution_count": 4,
   "metadata": {},
   "outputs": [],
   "source": [
    "openai_service = OpenAIService(settings=settings.openai)"
   ]
  },
  {
   "cell_type": "code",
   "execution_count": 5,
   "metadata": {},
   "outputs": [],
   "source": [
    "interaction = LLMInteractionService(\n",
    "    llm_model=openai_service\n",
    ")"
   ]
  },
  {
   "cell_type": "code",
   "execution_count": 6,
   "metadata": {},
   "outputs": [
    {
     "name": "stdout",
     "output_type": "stream",
     "text": [
      "completed_words\n"
     ]
    }
   ],
   "source": [
    "inputs=InteractionInput(\n",
    "        user_answer=\"apple\",\n",
    "        correct_answer=\"apple\",\n",
    "        exercies_type=\"completed_words\"\n",
    "    )\n",
    "print(inputs.exercies_type.value)"
   ]
  },
  {
   "cell_type": "code",
   "execution_count": 7,
   "metadata": {},
   "outputs": [
    {
     "name": "stdout",
     "output_type": "stream",
     "text": [
      "Great job! Your answer \"apple\" is absolutely correct! Keep up the fantastic work! 🍏\n"
     ]
    }
   ],
   "source": [
    "response = interaction.process(\n",
    "    inputs=InteractionInput(\n",
    "        user_answer=\"apple\",\n",
    "        correct_answer=\"apple\",\n",
    "        exercies_type=\"completed_words\"\n",
    "    )\n",
    ")\n",
    "print(response.response)"
   ]
  },
  {
   "cell_type": "code",
   "execution_count": 1,
   "metadata": {},
   "outputs": [],
   "source": [
    "from application import InteractBasedService\n",
    "from application import InteractBasedInput\n",
    "\n",
    "from shared.settings import load_settings\n",
    "\n",
    "settings = load_settings()"
   ]
  },
  {
   "cell_type": "code",
   "execution_count": 2,
   "metadata": {},
   "outputs": [],
   "source": [
    "interaction = InteractBasedService()"
   ]
  },
  {
   "cell_type": "code",
   "execution_count": 3,
   "metadata": {},
   "outputs": [
    {
     "name": "stdout",
     "output_type": "stream",
     "text": [
      "Great job! Your answer \"apple\" is absolutely correct! Keep up the fantastic work! 🍏\n"
     ]
    }
   ],
   "source": [
    "response = interaction.process(inputs=InteractBasedInput(\n",
    "    user_answer=\"apple\",\n",
    "    correct_answer=\"apple\",\n",
    "    exercies_type=\"completed_words\"\n",
    "    )\n",
    ")\n",
    "print(response.response)"
   ]
  },
  {
   "cell_type": "code",
   "execution_count": null,
   "metadata": {},
   "outputs": [],
   "source": []
  }
 ],
 "metadata": {
  "kernelspec": {
   "display_name": "instruct_mistakes",
   "language": "python",
   "name": "python3"
  },
  "language_info": {
   "codemirror_mode": {
    "name": "ipython",
    "version": 3
   },
   "file_extension": ".py",
   "mimetype": "text/x-python",
   "name": "python",
   "nbconvert_exporter": "python",
   "pygments_lexer": "ipython3",
   "version": "3.10.16"
  }
 },
 "nbformat": 4,
 "nbformat_minor": 2
}
